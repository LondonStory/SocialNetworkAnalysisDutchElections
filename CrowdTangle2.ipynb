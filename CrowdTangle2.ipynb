{
  "nbformat": 4,
  "nbformat_minor": 0,
  "metadata": {
    "colab": {
      "name": "CrowdTangle2.ipynb",
      "provenance": [],
      "authorship_tag": "ABX9TyMF/o/d89PTnb7YLO8nJAGd",
      "include_colab_link": true
    },
    "kernelspec": {
      "name": "python3",
      "display_name": "Python 3"
    },
    "language_info": {
      "name": "python"
    }
  },
  "cells": [
    {
      "cell_type": "markdown",
      "metadata": {
        "id": "view-in-github",
        "colab_type": "text"
      },
      "source": [
        "<a href=\"https://colab.research.google.com/github/javedhassans/SocialNetworkAnalysisDtuchElections/blob/main/CrowdTangle2.ipynb\" target=\"_parent\"><img src=\"https://colab.research.google.com/assets/colab-badge.svg\" alt=\"Open In Colab\"/></a>"
      ]
    },
    {
      "cell_type": "code",
      "metadata": {
        "colab": {
          "base_uri": "https://localhost:8080/"
        },
        "id": "wElt6Bh0_UVr",
        "outputId": "8611ae02-c5f5-4d6b-87c1-dca700d8d64a"
      },
      "source": [
        "from google.colab import drive\n",
        "drive.mount('/content/drive')"
      ],
      "execution_count": 1,
      "outputs": [
        {
          "output_type": "stream",
          "text": [
            "Drive already mounted at /content/drive; to attempt to forcibly remount, call drive.mount(\"/content/drive\", force_remount=True).\n"
          ],
          "name": "stdout"
        }
      ]
    },
    {
      "cell_type": "code",
      "metadata": {
        "id": "FaqV5tBO_Zeh"
      },
      "source": [
        "# importing dependecies to merge files\n",
        "import os\n",
        "import glob\n",
        "import pandas as pd\n",
        "os.chdir(\"/content/drive/MyDrive/Colab Notebooks/Data/TLS/\")"
      ],
      "execution_count": 2,
      "outputs": []
    },
    {
      "cell_type": "code",
      "metadata": {
        "id": "HF0y1S__AyBy"
      },
      "source": [
        "extension = 'csv'\n",
        "all_filenames = [i for i in glob.glob('*.{}'.format(extension))]"
      ],
      "execution_count": 3,
      "outputs": []
    },
    {
      "cell_type": "code",
      "metadata": {
        "colab": {
          "base_uri": "https://localhost:8080/"
        },
        "id": "_fS8GG5GBK79",
        "outputId": "a3e67e56-beec-415f-dc65-4999ea2d5436"
      },
      "source": [
        "all_filenames"
      ],
      "execution_count": 4,
      "outputs": [
        {
          "output_type": "execute_result",
          "data": {
            "text/plain": [
              "['2021-03-27-10-37-26-CET-search-csv-export.csv',\n",
              " '2021-04-01-10-36-33-CEST-search-csv-export.csv',\n",
              " '2021-04-01-10-31-55-CEST-search-csv-export.csv']"
            ]
          },
          "metadata": {
            "tags": []
          },
          "execution_count": 4
        }
      ]
    },
    {
      "cell_type": "code",
      "metadata": {
        "id": "Y0fUuAOdBL74"
      },
      "source": [
        "#combine all files in the list\n",
        "combined_csv = pd.concat([pd.read_csv(f) for f in all_filenames ])\n",
        "# #export to csv\n",
        "# combined_csv.to_csv( \"combined_csv.csv\", index=False, encoding='utf-8-sig')"
      ],
      "execution_count": 5,
      "outputs": []
    },
    {
      "cell_type": "code",
      "metadata": {
        "colab": {
          "base_uri": "https://localhost:8080/"
        },
        "id": "PyilT-prBTAf",
        "outputId": "ba19cc72-10ea-46a2-f2b5-d4be6d31c53b"
      },
      "source": [
        "combined_csv.shape"
      ],
      "execution_count": 6,
      "outputs": [
        {
          "output_type": "execute_result",
          "data": {
            "text/plain": [
              "(2616, 41)"
            ]
          },
          "metadata": {
            "tags": []
          },
          "execution_count": 6
        }
      ]
    },
    {
      "cell_type": "code",
      "metadata": {
        "id": "0JY1qB5aBU3q"
      },
      "source": [
        "# will use to remove null columns\n",
        "len_of_data = combined_csv.shape[0]"
      ],
      "execution_count": 7,
      "outputs": []
    },
    {
      "cell_type": "code",
      "metadata": {
        "colab": {
          "base_uri": "https://localhost:8080/"
        },
        "id": "Fbrz9R9VBbxt",
        "outputId": "a187a7d5-1229-4784-a6dc-7d8013533519"
      },
      "source": [
        "# creating filter to identify colums that are null more than 95%\n",
        "is_null_filter = combined_csv.isnull().sum()\n",
        "is_null_filter[is_null_filter > (0.95*len_of_data)]"
      ],
      "execution_count": 8,
      "outputs": [
        {
          "output_type": "execute_result",
          "data": {
            "text/plain": [
              "Sponsor Id          2616\n",
              "Sponsor Name        2616\n",
              "Sponsor Category    2616\n",
              "dtype: int64"
            ]
          },
          "metadata": {
            "tags": []
          },
          "execution_count": 8
        }
      ]
    },
    {
      "cell_type": "code",
      "metadata": {
        "colab": {
          "base_uri": "https://localhost:8080/"
        },
        "id": "eEjP3JsCBlyj",
        "outputId": "0a342d38-a4df-438d-fc27-245b9926d477"
      },
      "source": [
        "# creating list that is used to drop these columns\n",
        "cols_remove = list(is_null_filter[is_null_filter > (0.95*len_of_data)].index)\n",
        "cols_remove"
      ],
      "execution_count": 9,
      "outputs": [
        {
          "output_type": "execute_result",
          "data": {
            "text/plain": [
              "['Sponsor Id', 'Sponsor Name', 'Sponsor Category']"
            ]
          },
          "metadata": {
            "tags": []
          },
          "execution_count": 9
        }
      ]
    },
    {
      "cell_type": "code",
      "metadata": {
        "id": "J1ZjznHkBtTA"
      },
      "source": [
        "# droping the colums\n",
        "df_clean = combined_csv.drop(cols_remove, axis=1)"
      ],
      "execution_count": 10,
      "outputs": []
    },
    {
      "cell_type": "code",
      "metadata": {
        "id": "v8r9Cwy1B1KM"
      },
      "source": [
        "# Droping additonal colums that seems duplicate\n",
        "# Total Interactions is duplicate column\n",
        "# Post created and Post creatd time is Duplicate column\n",
        "# 'Total Views For All Crossposts' is 0 for all\n",
        "drop_list= ['Total Interactions (weighted  —  Likes 1x Shares 1x Comments 1x Love 1x Wow 1x Haha 1x Sad 1x Angry 1x Care 1x )',\n",
        "            'Post Created Time','Page Created','Total Views For All Crossposts','Post Created']\n",
        "df_clean.drop(drop_list,axis=1,inplace=True)"
      ],
      "execution_count": 11,
      "outputs": []
    },
    {
      "cell_type": "code",
      "metadata": {
        "id": "Ef6cja_wB9Ac"
      },
      "source": [
        "# changing the colums type\n",
        "# changing Total Intractions to numeric type by removing ','\n",
        "# Converting Post Created Date to Date format\n",
        "df_clean['Total Interactions'] = df_clean['Total Interactions'].astype(str).str.replace(',', '').apply(pd.to_numeric)\n",
        "df_clean['Post Created Date'] = pd.to_datetime(pd.to_datetime(df_clean['Post Created Date']).apply(lambda x: x.strftime('%Y-%m-%d')))"
      ],
      "execution_count": 12,
      "outputs": []
    },
    {
      "cell_type": "code",
      "metadata": {
        "colab": {
          "base_uri": "https://localhost:8080/"
        },
        "id": "q_B1g7U6B_9k",
        "outputId": "f2f53348-0c7f-4997-9c38-547c6e2e3935"
      },
      "source": [
        "df_clean.shape"
      ],
      "execution_count": 13,
      "outputs": [
        {
          "output_type": "execute_result",
          "data": {
            "text/plain": [
              "(2616, 33)"
            ]
          },
          "metadata": {
            "tags": []
          },
          "execution_count": 13
        }
      ]
    },
    {
      "cell_type": "code",
      "metadata": {
        "colab": {
          "base_uri": "https://localhost:8080/"
        },
        "id": "apk4atkICDew",
        "outputId": "2c9a39c3-7c54-4c41-9a4d-1e213eb8cb2e"
      },
      "source": [
        "df_clean.columns"
      ],
      "execution_count": 14,
      "outputs": [
        {
          "output_type": "execute_result",
          "data": {
            "text/plain": [
              "Index(['Page Name', 'User Name', 'Facebook Id', 'Page Category',\n",
              "       'Page Admin Top Country', 'Page Description', 'Likes at Posting',\n",
              "       'Followers at Posting', 'Post Created Date', 'Type',\n",
              "       'Total Interactions', 'Likes', 'Comments', 'Shares', 'Love', 'Wow',\n",
              "       'Haha', 'Sad', 'Angry', 'Care', 'Video Share Status', 'Is Video Owner?',\n",
              "       'Post Views', 'Total Views', 'Video Length', 'URL', 'Message', 'Link',\n",
              "       'Final Link', 'Image Text', 'Link Text', 'Description',\n",
              "       'Overperforming Score'],\n",
              "      dtype='object')"
            ]
          },
          "metadata": {
            "tags": []
          },
          "execution_count": 14
        }
      ]
    },
    {
      "cell_type": "code",
      "metadata": {
        "colab": {
          "base_uri": "https://localhost:8080/"
        },
        "id": "DMIlBWCYCF3a",
        "outputId": "27fdec70-4982-4393-c9f5-8862e850fd60"
      },
      "source": [
        "df_clean.isnull().sum()"
      ],
      "execution_count": 15,
      "outputs": [
        {
          "output_type": "execute_result",
          "data": {
            "text/plain": [
              "Page Name                    0\n",
              "User Name                 1391\n",
              "Facebook Id                  0\n",
              "Page Category                0\n",
              "Page Admin Top Country    1368\n",
              "Page Description          1102\n",
              "Likes at Posting           776\n",
              "Followers at Posting      1681\n",
              "Post Created Date            0\n",
              "Type                         0\n",
              "Total Interactions           0\n",
              "Likes                        0\n",
              "Comments                     0\n",
              "Shares                       0\n",
              "Love                         0\n",
              "Wow                          0\n",
              "Haha                         0\n",
              "Sad                          0\n",
              "Angry                        0\n",
              "Care                         0\n",
              "Video Share Status        2020\n",
              "Is Video Owner?              0\n",
              "Post Views                   0\n",
              "Total Views                  0\n",
              "Video Length              2020\n",
              "URL                          0\n",
              "Message                    275\n",
              "Link                       122\n",
              "Final Link                2028\n",
              "Image Text                2407\n",
              "Link Text                  422\n",
              "Description                634\n",
              "Overperforming Score         0\n",
              "dtype: int64"
            ]
          },
          "metadata": {
            "tags": []
          },
          "execution_count": 15
        }
      ]
    },
    {
      "cell_type": "code",
      "metadata": {
        "id": "9zqxsgQpDJez",
        "colab": {
          "base_uri": "https://localhost:8080/"
        },
        "outputId": "43835061-027a-4096-e302-ff73a8182f13"
      },
      "source": [
        "df_clean['URL'].value_counts()"
      ],
      "execution_count": 16,
      "outputs": [
        {
          "output_type": "execute_result",
          "data": {
            "text/plain": [
              "https://www.facebook.com/revrouwlutie/posts/168594501687752                       2\n",
              "https://www.facebook.com/groups/1627335444184775/permalink/2615590765359233       2\n",
              "https://www.facebook.com/groups/294068102010884/permalink/411358216948538         2\n",
              "https://www.facebook.com/groups/563756084573818/permalink/589920511957375         2\n",
              "https://www.facebook.com/FVDBreda/posts/1060802114393808                          2\n",
              "                                                                                 ..\n",
              "https://www.facebook.com/stephanie.pietz/posts/3204460389645006                   1\n",
              "https://www.facebook.com/243527245027/posts/10157652238055028                     1\n",
              "https://www.facebook.com/CosmicGoodyBag/posts/2643109052591848                    1\n",
              "https://www.facebook.com/feestdjmaurice/posts/2719591061596139                    1\n",
              "https://www.facebook.com/conservativemediacommunications/posts/775515963284515    1\n",
              "Name: URL, Length: 1846, dtype: int64"
            ]
          },
          "metadata": {
            "tags": []
          },
          "execution_count": 16
        }
      ]
    },
    {
      "cell_type": "code",
      "metadata": {
        "colab": {
          "base_uri": "https://localhost:8080/"
        },
        "id": "tHL8KQeXzKUB",
        "outputId": "a127fcc8-3edd-47b2-8cae-7dea6afe78eb"
      },
      "source": [
        "df_clean['Total Interactions'].describe()"
      ],
      "execution_count": 17,
      "outputs": [
        {
          "output_type": "execute_result",
          "data": {
            "text/plain": [
              "count     2616.000000\n",
              "mean       168.870795\n",
              "std        759.257255\n",
              "min          0.000000\n",
              "25%          1.000000\n",
              "50%          7.000000\n",
              "75%         37.000000\n",
              "max      11719.000000\n",
              "Name: Total Interactions, dtype: float64"
            ]
          },
          "metadata": {
            "tags": []
          },
          "execution_count": 17
        }
      ]
    },
    {
      "cell_type": "code",
      "metadata": {
        "id": "eiVoIq-ezhwJ"
      },
      "source": [
        "# numeric columns\n",
        "num_cols = df_clean.select_dtypes(exclude='object')\n",
        "cat_cols = df_clean.select_dtypes(include='object')"
      ],
      "execution_count": 21,
      "outputs": []
    },
    {
      "cell_type": "code",
      "metadata": {
        "colab": {
          "base_uri": "https://localhost:8080/"
        },
        "id": "rEgSP5hK0tUH",
        "outputId": "678c3ac6-f33c-4d26-b023-155a9b20bcca"
      },
      "source": [
        "num_cols.columns"
      ],
      "execution_count": 22,
      "outputs": [
        {
          "output_type": "execute_result",
          "data": {
            "text/plain": [
              "Index(['Facebook Id', 'Likes at Posting', 'Followers at Posting',\n",
              "       'Post Created Date', 'Total Interactions', 'Likes', 'Comments',\n",
              "       'Shares', 'Love', 'Wow', 'Haha', 'Sad', 'Angry', 'Care', 'Post Views',\n",
              "       'Total Views', 'Overperforming Score'],\n",
              "      dtype='object')"
            ]
          },
          "metadata": {
            "tags": []
          },
          "execution_count": 22
        }
      ]
    },
    {
      "cell_type": "code",
      "metadata": {
        "colab": {
          "base_uri": "https://localhost:8080/"
        },
        "id": "6QVr7rkn0_8I",
        "outputId": "076ecf0d-8a31-4ece-f5c7-7740f89dd48a"
      },
      "source": [
        "cat_cols.columns"
      ],
      "execution_count": 24,
      "outputs": [
        {
          "output_type": "execute_result",
          "data": {
            "text/plain": [
              "Index(['Page Name', 'User Name', 'Page Category', 'Page Admin Top Country',\n",
              "       'Page Description', 'Type', 'Video Share Status', 'Is Video Owner?',\n",
              "       'Video Length', 'URL', 'Message', 'Link', 'Final Link', 'Image Text',\n",
              "       'Link Text', 'Description'],\n",
              "      dtype='object')"
            ]
          },
          "metadata": {
            "tags": []
          },
          "execution_count": 24
        }
      ]
    },
    {
      "cell_type": "code",
      "metadata": {
        "colab": {
          "base_uri": "https://localhost:8080/"
        },
        "id": "lye4YQS80Vrc",
        "outputId": "74f59387-6145-492b-e818-c0bda837a47c"
      },
      "source": [
        "df_clean.info()"
      ],
      "execution_count": 20,
      "outputs": [
        {
          "output_type": "stream",
          "text": [
            "<class 'pandas.core.frame.DataFrame'>\n",
            "Int64Index: 2616 entries, 0 to 769\n",
            "Data columns (total 33 columns):\n",
            " #   Column                  Non-Null Count  Dtype         \n",
            "---  ------                  --------------  -----         \n",
            " 0   Page Name               2616 non-null   object        \n",
            " 1   User Name               1225 non-null   object        \n",
            " 2   Facebook Id             2616 non-null   int64         \n",
            " 3   Page Category           2616 non-null   object        \n",
            " 4   Page Admin Top Country  1248 non-null   object        \n",
            " 5   Page Description        1514 non-null   object        \n",
            " 6   Likes at Posting        1840 non-null   float64       \n",
            " 7   Followers at Posting    935 non-null    float64       \n",
            " 8   Post Created Date       2616 non-null   datetime64[ns]\n",
            " 9   Type                    2616 non-null   object        \n",
            " 10  Total Interactions      2616 non-null   int64         \n",
            " 11  Likes                   2616 non-null   int64         \n",
            " 12  Comments                2616 non-null   int64         \n",
            " 13  Shares                  2616 non-null   int64         \n",
            " 14  Love                    2616 non-null   int64         \n",
            " 15  Wow                     2616 non-null   int64         \n",
            " 16  Haha                    2616 non-null   int64         \n",
            " 17  Sad                     2616 non-null   int64         \n",
            " 18  Angry                   2616 non-null   int64         \n",
            " 19  Care                    2616 non-null   int64         \n",
            " 20  Video Share Status      596 non-null    object        \n",
            " 21  Is Video Owner?         2616 non-null   object        \n",
            " 22  Post Views              2616 non-null   int64         \n",
            " 23  Total Views             2616 non-null   int64         \n",
            " 24  Video Length            596 non-null    object        \n",
            " 25  URL                     2616 non-null   object        \n",
            " 26  Message                 2341 non-null   object        \n",
            " 27  Link                    2494 non-null   object        \n",
            " 28  Final Link              588 non-null    object        \n",
            " 29  Image Text              209 non-null    object        \n",
            " 30  Link Text               2194 non-null   object        \n",
            " 31  Description             1982 non-null   object        \n",
            " 32  Overperforming Score    2616 non-null   float64       \n",
            "dtypes: datetime64[ns](1), float64(3), int64(13), object(16)\n",
            "memory usage: 694.9+ KB\n"
          ],
          "name": "stdout"
        }
      ]
    },
    {
      "cell_type": "markdown",
      "metadata": {
        "id": "seKFwIrtDelg"
      },
      "source": [
        "### Plotting\n"
      ]
    },
    {
      "cell_type": "code",
      "metadata": {
        "id": "ZVx0226YDj_b"
      },
      "source": [
        "import matplotlib.pyplot as plt\n",
        "import numpy as np\n",
        "import seaborn as sns"
      ],
      "execution_count": null,
      "outputs": []
    },
    {
      "cell_type": "code",
      "metadata": {
        "colab": {
          "base_uri": "https://localhost:8080/",
          "height": 568
        },
        "id": "_J0Rm_TsDhCl",
        "outputId": "d9d5e7b3-8ae6-4514-ede3-4ba367149478"
      },
      "source": [
        "plt.figure(figsize=(6,4),dpi=100)\n",
        "# df_clean['Page Category'].value_counts()[:15].plot(kind='bar')\n",
        "not_none = df_clean[df_clean['Page Category']!= 'none']\n",
        "not_none['Page Category'].value_counts()[:15].plot(kind='bar')\n",
        "plt.title('category with most pages')\n",
        "plt.ylabel('count')\n",
        "plt.show()"
      ],
      "execution_count": null,
      "outputs": [
        {
          "output_type": "display_data",
          "data": {
            "image/png": "[encoded data removed]",
            "text/plain": [
              "<Figure size 600x400 with 1 Axes>"
            ]
          },
          "metadata": {
            "tags": [],
            "needs_background": "light"
          }
        }
      ]
    },
    {
      "cell_type": "code",
      "metadata": {
        "colab": {
          "base_uri": "https://localhost:8080/",
          "height": 391
        },
        "id": "ylDHORITDg_8",
        "outputId": "28492889-91b1-4300-8eab-faebca7d190a"
      },
      "source": [
        "plt.figure(figsize=(6,4),dpi=100)\n",
        "df_clean['Page Admin Top Country'].value_counts()[:15].plot(kind='bar')\n",
        "plt.title('country with most pages')\n",
        "plt.ylabel('count')\n",
        "plt.show()"
      ],
      "execution_count": null,
      "outputs": [
        {
          "output_type": "display_data",
          "data": {
            "image/png": "[encoded data removed]",
            "text/plain": [
              "<Figure size 600x400 with 1 Axes>"
            ]
          },
          "metadata": {
            "tags": [],
            "needs_background": "light"
          }
        }
      ]
    },
    {
      "cell_type": "markdown",
      "metadata": {
        "id": "09Lfo57mFpB6"
      },
      "source": [
        "### Vedio sharing status and Page Admin top country"
      ]
    },
    {
      "cell_type": "code",
      "metadata": {
        "colab": {
          "base_uri": "https://localhost:8080/",
          "height": 319
        },
        "id": "nuzzB4ITDg9E",
        "outputId": "89a4e76d-0f2c-4817-e38e-75beb51559ea"
      },
      "source": [
        "df_clean['Video Share Status'].value_counts().plot(kind='bar')\n",
        "plt.title('Types of vedios share status')\n",
        "plt.ylabel('count')\n",
        "plt.show()"
      ],
      "execution_count": null,
      "outputs": [
        {
          "output_type": "display_data",
          "data": {
            "image/png": "[encoded data removed]",
            "text/plain": [
              "<Figure size 432x288 with 1 Axes>"
            ]
          },
          "metadata": {
            "tags": [],
            "needs_background": "light"
          }
        }
      ]
    },
    {
      "cell_type": "code",
      "metadata": {
        "colab": {
          "base_uri": "https://localhost:8080/",
          "height": 355
        },
        "id": "-NRynTEqDg3Y",
        "outputId": "9b31f014-da18-40a9-e811-71d89f498212"
      },
      "source": [
        "pivot_table = pd.crosstab(df_clean['Page Admin Top Country'],df_clean['Video Share Status'],margins=True)\n",
        "sorted_pivot_table = pivot_table.sort_values(by='All',ascending=False)[1:10]\n",
        "sorted_pivot_table"
      ],
      "execution_count": null,
      "outputs": [
        {
          "output_type": "execute_result",
          "data": {
            "text/html": [
              "<div>\n",
              "<style scoped>\n",
              "    .dataframe tbody tr th:only-of-type {\n",
              "        vertical-align: middle;\n",
              "    }\n",
              "\n",
              "    .dataframe tbody tr th {\n",
              "        vertical-align: top;\n",
              "    }\n",
              "\n",
              "    .dataframe thead th {\n",
              "        text-align: right;\n",
              "    }\n",
              "</style>\n",
              "<table border=\"1\" class=\"dataframe\">\n",
              "  <thead>\n",
              "    <tr style=\"text-align: right;\">\n",
              "      <th>Video Share Status</th>\n",
              "      <th>crosspost</th>\n",
              "      <th>owned</th>\n",
              "      <th>share</th>\n",
              "      <th>All</th>\n",
              "    </tr>\n",
              "    <tr>\n",
              "      <th>Page Admin Top Country</th>\n",
              "      <th></th>\n",
              "      <th></th>\n",
              "      <th></th>\n",
              "      <th></th>\n",
              "    </tr>\n",
              "  </thead>\n",
              "  <tbody>\n",
              "    <tr>\n",
              "      <th>NL</th>\n",
              "      <td>4</td>\n",
              "      <td>139</td>\n",
              "      <td>34</td>\n",
              "      <td>177</td>\n",
              "    </tr>\n",
              "    <tr>\n",
              "      <th>US</th>\n",
              "      <td>0</td>\n",
              "      <td>23</td>\n",
              "      <td>9</td>\n",
              "      <td>32</td>\n",
              "    </tr>\n",
              "    <tr>\n",
              "      <th>IT</th>\n",
              "      <td>0</td>\n",
              "      <td>4</td>\n",
              "      <td>4</td>\n",
              "      <td>8</td>\n",
              "    </tr>\n",
              "    <tr>\n",
              "      <th>BE</th>\n",
              "      <td>0</td>\n",
              "      <td>7</td>\n",
              "      <td>0</td>\n",
              "      <td>7</td>\n",
              "    </tr>\n",
              "    <tr>\n",
              "      <th>AU</th>\n",
              "      <td>0</td>\n",
              "      <td>4</td>\n",
              "      <td>2</td>\n",
              "      <td>6</td>\n",
              "    </tr>\n",
              "    <tr>\n",
              "      <th>DE</th>\n",
              "      <td>0</td>\n",
              "      <td>6</td>\n",
              "      <td>0</td>\n",
              "      <td>6</td>\n",
              "    </tr>\n",
              "    <tr>\n",
              "      <th>CH</th>\n",
              "      <td>0</td>\n",
              "      <td>2</td>\n",
              "      <td>3</td>\n",
              "      <td>5</td>\n",
              "    </tr>\n",
              "    <tr>\n",
              "      <th>CL</th>\n",
              "      <td>0</td>\n",
              "      <td>1</td>\n",
              "      <td>2</td>\n",
              "      <td>3</td>\n",
              "    </tr>\n",
              "    <tr>\n",
              "      <th>CO</th>\n",
              "      <td>0</td>\n",
              "      <td>2</td>\n",
              "      <td>0</td>\n",
              "      <td>2</td>\n",
              "    </tr>\n",
              "  </tbody>\n",
              "</table>\n",
              "</div>"
            ],
            "text/plain": [
              "Video Share Status      crosspost  owned  share  All\n",
              "Page Admin Top Country                              \n",
              "NL                              4    139     34  177\n",
              "US                              0     23      9   32\n",
              "IT                              0      4      4    8\n",
              "BE                              0      7      0    7\n",
              "AU                              0      4      2    6\n",
              "DE                              0      6      0    6\n",
              "CH                              0      2      3    5\n",
              "CL                              0      1      2    3\n",
              "CO                              0      2      0    2"
            ]
          },
          "metadata": {
            "tags": []
          },
          "execution_count": 52
        }
      ]
    },
    {
      "cell_type": "code",
      "metadata": {
        "colab": {
          "base_uri": "https://localhost:8080/",
          "height": 317
        },
        "id": "Px5G5LAKDg0U",
        "outputId": "886c4554-4412-4945-d205-9cafc6580b8c"
      },
      "source": [
        "plt.figure(figsize=(10,6),dpi=600)\n",
        "sorted_pivot_table.drop(['All'],axis=1).plot(kind='bar')\n",
        "# sorted_pivot_table.drop(['All','other'],axis=1, inplace=True).plot(kind='bar')\n",
        "plt.ylabel('count')\n",
        "plt.title('Pages shares and owned per country')\n",
        "plt.show()"
      ],
      "execution_count": null,
      "outputs": [
        {
          "output_type": "display_data",
          "data": {
            "text/plain": [
              "<Figure size 6000x3600 with 0 Axes>"
            ]
          },
          "metadata": {
            "tags": []
          }
        },
        {
          "output_type": "display_data",
          "data": {
            "image/png": "[encoded data removed]",
            "text/plain": [
              "<Figure size 432x288 with 1 Axes>"
            ]
          },
          "metadata": {
            "tags": [],
            "needs_background": "light"
          }
        }
      ]
    },
    {
      "cell_type": "code",
      "metadata": {
        "colab": {
          "base_uri": "https://localhost:8080/"
        },
        "id": "tnKTTmbhHTZM",
        "outputId": "5e651d76-1b38-458f-f277-c9eff1366933"
      },
      "source": [
        "df_clean['Type'].value_counts()"
      ],
      "execution_count": 34,
      "outputs": [
        {
          "output_type": "execute_result",
          "data": {
            "text/plain": [
              "YouTube                668\n",
              "Link                   641\n",
              "Native Video           499\n",
              "Photo                  495\n",
              "Video                  138\n",
              "Live Video Complete     97\n",
              "Status                  78\n",
              "Name: Type, dtype: int64"
            ]
          },
          "metadata": {
            "tags": []
          },
          "execution_count": 34
        }
      ]
    },
    {
      "cell_type": "code",
      "metadata": {
        "id": "HxCVF97FHTVo",
        "colab": {
          "base_uri": "https://localhost:8080/"
        },
        "outputId": "e34213e9-ded5-4a2b-97ea-25985bef66bb"
      },
      "source": [
        "combined_csv.columns"
      ],
      "execution_count": 17,
      "outputs": [
        {
          "output_type": "execute_result",
          "data": {
            "text/plain": [
              "Index(['Page Name', 'User Name', 'Facebook Id', 'Page Category',\n",
              "       'Page Admin Top Country', 'Page Description', 'Page Created',\n",
              "       'Likes at Posting', 'Followers at Posting', 'Post Created',\n",
              "       'Post Created Date', 'Post Created Time', 'Type', 'Total Interactions',\n",
              "       'Likes', 'Comments', 'Shares', 'Love', 'Wow', 'Haha', 'Sad', 'Angry',\n",
              "       'Care', 'Video Share Status', 'Is Video Owner?', 'Post Views',\n",
              "       'Total Views', 'Total Views For All Crossposts', 'Video Length', 'URL',\n",
              "       'Message', 'Link', 'Final Link', 'Image Text', 'Link Text',\n",
              "       'Description', 'Sponsor Id', 'Sponsor Name', 'Sponsor Category',\n",
              "       'Total Interactions (weighted  —  Likes 1x Shares 1x Comments 1x Love 1x Wow 1x Haha 1x Sad 1x Angry 1x Care 1x )',\n",
              "       'Overperforming Score'],\n",
              "      dtype='object')"
            ]
          },
          "metadata": {
            "tags": []
          },
          "execution_count": 17
        }
      ]
    },
    {
      "cell_type": "markdown",
      "metadata": {
        "id": "VVivWV-ZCTMj"
      },
      "source": [
        "#### Network analysis Graphs"
      ]
    },
    {
      "cell_type": "code",
      "metadata": {
        "id": "6f5ImG95CUd2"
      },
      "source": [
        "import csv\n",
        "from operator import itemgetter\n",
        "import networkx as nx\n",
        "from networkx.algorithms import community"
      ],
      "execution_count": 16,
      "outputs": []
    },
    {
      "cell_type": "code",
      "metadata": {
        "id": "A1sEAqAwCWDp"
      },
      "source": [
        "nodelist = pd.DataFrame({'pagename':df_clean['Page Name'],'Type':df_clean['Type'], 'AdminCountry':df_clean['Page Admin Top Country'],\n",
        "                          'Category':df_clean['Page Category']})"
      ],
      "execution_count": 39,
      "outputs": []
    },
    {
      "cell_type": "code",
      "metadata": {
        "id": "Xjxf7pev5YqB"
      },
      "source": [
        "nodelist.to_csv('/content/drive/MyDrive/Colab Notebooks/Data/TLS/GephiData/combnodes.csv',index=False)"
      ],
      "execution_count": 55,
      "outputs": []
    },
    {
      "cell_type": "code",
      "metadata": {
        "id": "pHadbDPl4bax"
      },
      "source": [
        "edges = pd.DataFrame({'source':nodelist.iloc[:,0], 'target':nodelist.iloc[:,1]})"
      ],
      "execution_count": 50,
      "outputs": []
    },
    {
      "cell_type": "code",
      "metadata": {
        "id": "WX9VEzsZ5SMZ"
      },
      "source": [
        "edges.to_csv('/content/drive/MyDrive/Colab Notebooks/Data/TLS/GephiData/combedges.csv',index=False)"
      ],
      "execution_count": 53,
      "outputs": []
    },
    {
      "cell_type": "code",
      "metadata": {
        "colab": {
          "base_uri": "https://localhost:8080/"
        },
        "id": "p424EySTAdVx",
        "outputId": "37846145-dbec-45f5-9816-b86f0b8dfacf"
      },
      "source": [
        "df_clean['Page Name'].value_counts()[:10]"
      ],
      "execution_count": 58,
      "outputs": [
        {
          "output_type": "execute_result",
          "data": {
            "text/plain": [
              "Dutch Patriots                                      62\n",
              "ReVrouwLutie                                        58\n",
              "Wybren van Haga                                     48\n",
              "Be4Truth                                            38\n",
              "Stem Nederland Terug                                36\n",
              "Soevereine Staat Eurostaete                         36\n",
              "Voor Inwoners Bunschoten-Spakenburg en Omstreken    30\n",
              "ABC                                                 30\n",
              "Forum voor Democratie geluid -FVD geluid            28\n",
              "‼️ Nederland in opstand ‼️                          28\n",
              "Name: Page Name, dtype: int64"
            ]
          },
          "metadata": {
            "tags": []
          },
          "execution_count": 58
        }
      ]
    },
    {
      "cell_type": "code",
      "metadata": {
        "id": "_FD-2VDVApSy"
      },
      "source": [
        ""
      ],
      "execution_count": null,
      "outputs": []
    }
  ]
}